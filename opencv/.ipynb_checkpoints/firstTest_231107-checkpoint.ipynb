{
 "cells": [
  {
   "cell_type": "code",
   "execution_count": 82,
   "id": "d11a0ce4",
   "metadata": {},
   "outputs": [],
   "source": [
    "import cv2 #opencv读取格式是BGR\n",
    "import matplotlib.pyplot as plt\n",
    "import numpy as np\n",
    "#魔法指令\n",
    "%matplotlib inline\n",
    "#读取一张图片,指定路径\n",
    "img = cv2.imread('dog.jpg')"
   ]
  },
  {
   "cell_type": "code",
   "execution_count": 83,
   "id": "b15f1cd7",
   "metadata": {},
   "outputs": [
    {
     "data": {
      "text/plain": [
       "array([[[239, 226, 200],\n",
       "        [239, 226, 200],\n",
       "        [239, 226, 200],\n",
       "        ...,\n",
       "        [190, 194, 183],\n",
       "        [189, 193, 182],\n",
       "        [188, 194, 183]],\n",
       "\n",
       "       [[239, 226, 200],\n",
       "        [239, 226, 200],\n",
       "        [239, 226, 200],\n",
       "        ...,\n",
       "        [191, 195, 184],\n",
       "        [191, 195, 184],\n",
       "        [189, 195, 184]],\n",
       "\n",
       "       [[239, 226, 200],\n",
       "        [239, 226, 200],\n",
       "        [239, 226, 200],\n",
       "        ...,\n",
       "        [191, 195, 184],\n",
       "        [191, 195, 184],\n",
       "        [186, 192, 181]],\n",
       "\n",
       "       ...,\n",
       "\n",
       "       [[231, 236, 235],\n",
       "        [231, 236, 235],\n",
       "        [232, 237, 236],\n",
       "        ...,\n",
       "        [151, 174, 182],\n",
       "        [151, 174, 182],\n",
       "        [151, 174, 182]],\n",
       "\n",
       "       [[233, 238, 237],\n",
       "        [233, 238, 237],\n",
       "        [234, 239, 238],\n",
       "        ...,\n",
       "        [151, 174, 182],\n",
       "        [151, 174, 182],\n",
       "        [151, 174, 182]],\n",
       "\n",
       "       [[234, 239, 238],\n",
       "        [234, 239, 238],\n",
       "        [235, 240, 239],\n",
       "        ...,\n",
       "        [151, 174, 182],\n",
       "        [151, 174, 182],\n",
       "        [151, 174, 182]]], dtype=uint8)"
      ]
     },
     "execution_count": 83,
     "metadata": {},
     "output_type": "execute_result"
    }
   ],
   "source": [
    "img"
   ]
  },
  {
   "cell_type": "markdown",
   "id": "2df4a5ef",
   "metadata": {},
   "source": [
    "以上img是三维数组（表示了一个矩阵），...,表示img太多省略显示，dtype=uint8表示0-255"
   ]
  },
  {
   "cell_type": "markdown",
   "id": "de09327c",
   "metadata": {},
   "source": [
    "# #图像的显示，也可以创建多个窗口\n",
    "# cv2.imshow('cat',img)\n",
    "# # 等待时间，Ms,0表示任意键终止。其他以Ms为单位显示一定的时间\n",
    "# cv2.waitKey(0) \n",
    "# cv2.destroyAllWindows()"
   ]
  },
  {
   "cell_type": "code",
   "execution_count": 85,
   "id": "b5ad9e60",
   "metadata": {},
   "outputs": [],
   "source": [
    "#此处写了个函数替代上面的\n",
    "def cv_show(name,img):\n",
    "    cv2.imshow(name,img)\n",
    "    cv2.waitKey(0) \n",
    "    cv2.destroyAllWindows()"
   ]
  },
  {
   "cell_type": "code",
   "execution_count": 86,
   "id": "f3c627c3",
   "metadata": {},
   "outputs": [
    {
     "data": {
      "text/plain": [
       "(1800, 2697, 3)"
      ]
     },
     "execution_count": 86,
     "metadata": {},
     "output_type": "execute_result"
    }
   ],
   "source": [
    "img.shape#获取h w c 最后一个3是BGR彩色图"
   ]
  },
  {
   "cell_type": "markdown",
   "id": "7dffdf22",
   "metadata": {},
   "source": [
    "# 上面BGR彩色图片，array([[[ 三个维度，最后一个值是BGR彩色图"
   ]
  },
  {
   "cell_type": "code",
   "execution_count": 96,
   "id": "f5d835c9",
   "metadata": {},
   "outputs": [],
   "source": [
    "img = cv2.imread('dog.jpg',cv2.IMREAD_GRAYSCALE)\n",
    "cv_show('dog',img)"
   ]
  },
  {
   "cell_type": "code",
   "execution_count": 97,
   "id": "57b2dc9e",
   "metadata": {},
   "outputs": [
    {
     "data": {
      "text/plain": [
       "(1800, 2697)"
      ]
     },
     "execution_count": 97,
     "metadata": {},
     "output_type": "execute_result"
    }
   ],
   "source": [
    "img.shape"
   ]
  },
  {
   "cell_type": "markdown",
   "id": "19feef40",
   "metadata": {},
   "source": [
    "# 上面IMREAD_GRAYSCALE 灰度图片\n",
    "## 所以array([[ 两个维度，就没有BGR这个"
   ]
  },
  {
   "cell_type": "code",
   "execution_count": 98,
   "id": "e928a15d",
   "metadata": {},
   "outputs": [],
   "source": [
    "cv_show('dog',img)"
   ]
  },
  {
   "cell_type": "code",
   "execution_count": 99,
   "id": "8f3d3be9",
   "metadata": {},
   "outputs": [
    {
     "data": {
      "text/plain": [
       "True"
      ]
     },
     "execution_count": 99,
     "metadata": {},
     "output_type": "execute_result"
    }
   ],
   "source": [
    "#保存图片\n",
    "cv2.imwrite('cat_grayscale.jpg',img)"
   ]
  },
  {
   "cell_type": "code",
   "execution_count": 100,
   "id": "91019578",
   "metadata": {},
   "outputs": [
    {
     "data": {
      "text/plain": [
       "4854600"
      ]
     },
     "execution_count": 100,
     "metadata": {},
     "output_type": "execute_result"
    }
   ],
   "source": [
    "#像素点的个数\n",
    "img.size"
   ]
  },
  {
   "cell_type": "code",
   "execution_count": 101,
   "id": "f57707d5",
   "metadata": {},
   "outputs": [
    {
     "data": {
      "text/plain": [
       "dtype('uint8')"
      ]
     },
     "execution_count": 101,
     "metadata": {},
     "output_type": "execute_result"
    }
   ],
   "source": [
    "#查看数据类型\n",
    "img.dtype"
   ]
  },
  {
   "cell_type": "markdown",
   "id": "3415e707",
   "metadata": {},
   "source": [
    "# 视频基本操作\n",
    "    1.cv2.VideoCapture可以捕捉摄像头，用数字来控制不同的设备，例如0，1\n",
    "    2.如果是视频文件，直接制定好路径即可"
   ]
  },
  {
   "cell_type": "code",
   "execution_count": 105,
   "id": "cc670917",
   "metadata": {},
   "outputs": [],
   "source": [
    "vc = cv2.VideoCapture('cy.mp4')"
   ]
  },
  {
   "cell_type": "code",
   "execution_count": 107,
   "id": "8ac5a363",
   "metadata": {},
   "outputs": [
    {
     "ename": "AttributeError",
     "evalue": "'cv2.VideoCapture' object has no attribute 'isOpended'",
     "output_type": "error",
     "traceback": [
      "\u001b[1;31m---------------------------------------------------------------------------\u001b[0m",
      "\u001b[1;31mAttributeError\u001b[0m                            Traceback (most recent call last)",
      "\u001b[1;32m<ipython-input-107-dd60847d2431>\u001b[0m in \u001b[0;36m<module>\u001b[1;34m\u001b[0m\n\u001b[0;32m      1\u001b[0m \u001b[1;31m# 判断有没有打开\u001b[0m\u001b[1;33m\u001b[0m\u001b[1;33m\u001b[0m\u001b[1;33m\u001b[0m\u001b[0m\n\u001b[1;32m----> 2\u001b[1;33m \u001b[1;32mif\u001b[0m \u001b[0mvc\u001b[0m\u001b[1;33m.\u001b[0m\u001b[0misOpended\u001b[0m\u001b[1;33m(\u001b[0m\u001b[1;33m)\u001b[0m\u001b[1;33m:\u001b[0m\u001b[1;33m\u001b[0m\u001b[1;33m\u001b[0m\u001b[0m\n\u001b[0m\u001b[0;32m      3\u001b[0m     \u001b[0mopen\u001b[0m\u001b[1;33m,\u001b[0m \u001b[0mframe\u001b[0m \u001b[1;33m=\u001b[0m \u001b[0mvc\u001b[0m\u001b[1;33m.\u001b[0m\u001b[0mread\u001b[0m\u001b[1;33m(\u001b[0m\u001b[1;33m)\u001b[0m \u001b[1;31m#第一个参数是有没有打开，第二个参数是上面的img矩阵\u001b[0m\u001b[1;33m\u001b[0m\u001b[1;33m\u001b[0m\u001b[0m\n\u001b[0;32m      4\u001b[0m \u001b[1;32melse\u001b[0m\u001b[1;33m:\u001b[0m\u001b[1;33m\u001b[0m\u001b[1;33m\u001b[0m\u001b[0m\n\u001b[0;32m      5\u001b[0m     \u001b[0mopen\u001b[0m \u001b[1;33m=\u001b[0m \u001b[0mFlase\u001b[0m\u001b[1;33m\u001b[0m\u001b[1;33m\u001b[0m\u001b[0m\n",
      "\u001b[1;31mAttributeError\u001b[0m: 'cv2.VideoCapture' object has no attribute 'isOpended'"
     ]
    }
   ],
   "source": [
    "# 判断有没有打开\n",
    "if vc.isOpended():\n",
    "    open, frame = vc.read() #第一个参数是有没有打开，第二个参数是上面的img矩阵\n",
    "else:\n",
    "    open = Flase"
   ]
  }
 ],
 "metadata": {
  "kernelspec": {
   "display_name": "opencv",
   "language": "python",
   "name": "opencv"
  },
  "language_info": {
   "codemirror_mode": {
    "name": "ipython",
    "version": 3
   },
   "file_extension": ".py",
   "mimetype": "text/x-python",
   "name": "python",
   "nbconvert_exporter": "python",
   "pygments_lexer": "ipython3",
   "version": "3.6.13"
  }
 },
 "nbformat": 4,
 "nbformat_minor": 5
}
